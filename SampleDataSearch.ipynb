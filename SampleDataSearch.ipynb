{
  "nbformat": 4,
  "nbformat_minor": 0,
  "metadata": {
    "colab": {
      "provenance": []
    },
    "kernelspec": {
      "name": "python3",
      "display_name": "Python 3"
    },
    "language_info": {
      "name": "python"
    }
  },
  "cells": [
    {
      "cell_type": "code",
      "source": [
        "import pandas as pd\n",
        "import numpy as np\n",
        "\n",
        "# Load the training dataset\n",
        "train_data = pd.read_csv('/content/drive/MyDrive/Programming/Search Ranking/train-v0.3.csv')\n",
        "\n",
        "# Calculate the total number of unique queries in the dataset\n",
        "total_population = len(train_data['query'].unique())\n",
        "\n",
        "# Set the desired margin error and confidence level\n",
        "margin_error = 0.05  # 5% margin error\n",
        "confidence_level = 0.95  # 95% confidence level\n",
        "\n",
        "# Calculate the critical value based on the confidence level\n",
        "critical_value = np.abs((1 - confidence_level) / 2)\n",
        "\n",
        "# Calculate the standard error using the margin error and critical value\n",
        "standard_error = margin_error / critical_value\n",
        "\n",
        "# Calculate the initial sample size using the formula\n",
        "initial_sample_size = int(np.ceil((1.96 * standard_error)**2))\n",
        "\n",
        "# Randomly select the queries for the initial sample\n",
        "initial_sample_queries = np.random.choice(train_data['query'].unique(), size=initial_sample_size, replace=False)\n",
        "\n",
        "# Create the initial sample dataset containing only the selected queries\n",
        "initial_sample_data = train_data[train_data['query'].isin(initial_sample_queries)]\n",
        "\n",
        "# Calculate the initial sample similarity with the complete dataset\n",
        "initial_sample_similarity = len(initial_sample_data) / total_population\n",
        "\n",
        "# Set the desired minimum sample similarity\n",
        "desired_similarity = 0.95\n",
        "\n",
        "# Increase the sample size iteratively until the desired similarity is reached\n",
        "while initial_sample_similarity < desired_similarity:\n",
        "    # Increase the sample size by a factor\n",
        "    increased_sample_size = int(np.ceil(initial_sample_size * 1.1))\n",
        "\n",
        "    # Randomly select additional queries to supplement the initial sample\n",
        "    additional_sample_queries = np.random.choice(train_data['query'].unique(), size=increased_sample_size - initial_sample_size, replace=False)\n",
        "\n",
        "    # Create the additional sample dataset containing the additional selected queries\n",
        "    additional_sample_data = train_data[train_data['query'].isin(additional_sample_queries)]\n",
        "\n",
        "    # Combine the initial sample with the additional sample\n",
        "    final_sample_data = pd.concat([initial_sample_data, additional_sample_data], ignore_index=True)\n",
        "\n",
        "    # Calculate the final sample similarity with the complete dataset\n",
        "    final_sample_similarity = len(final_sample_data) / total_population\n",
        "\n",
        "    # Update the sample size and similarity for the next iteration\n",
        "    initial_sample_size = increased_sample_size\n",
        "    initial_sample_similarity = final_sample_similarity\n",
        "\n",
        "# Print the sample information\n",
        "print(\"Sample Size:\", initial_sample_size)\n",
        "print(\"Margin Error:\", margin_error)\n",
        "print(\"Sample Similarity:\", final_sample_similarity)\n",
        "\n"
      ],
      "metadata": {
        "colab": {
          "base_uri": "https://localhost:8080/"
        },
        "id": "FkxYswE_xHPH",
        "outputId": "e2037fd9-6eb8-47b0-d678-5e970d4c13a4"
      },
      "execution_count": 6,
      "outputs": [
        {
          "output_type": "stream",
          "name": "stdout",
          "text": [
            "Sample Size: 15845\n",
            "Margin Error: 0.05\n",
            "Sample Similarity: 0.9999407881102526\n"
          ]
        }
      ]
    },
    {
      "cell_type": "code",
      "source": [],
      "metadata": {
        "id": "ZgD74_EEyJne"
      },
      "execution_count": null,
      "outputs": []
    }
  ]
}