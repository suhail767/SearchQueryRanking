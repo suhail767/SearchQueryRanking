{
  "cells": [
    {
      "cell_type": "code",
      "execution_count": null,
      "metadata": {
        "id": "EqawzJiZm0gF",
        "colab": {
          "base_uri": "https://localhost:8080/"
        },
        "outputId": "22cd4fb2-4fa6-4b5e-ed40-c616c1e91778"
      },
      "outputs": [
        {
          "output_type": "stream",
          "name": "stdout",
          "text": [
            "Collecting transformers\n",
            "  Downloading transformers-4.30.2-py3-none-any.whl (7.2 MB)\n",
            "\u001b[2K     \u001b[90m━━━━━━━━━━━━━━━━━━━━━━━━━━━━━━━━━━━━━━━━\u001b[0m \u001b[32m7.2/7.2 MB\u001b[0m \u001b[31m44.1 MB/s\u001b[0m eta \u001b[36m0:00:00\u001b[0m\n",
            "\u001b[?25hRequirement already satisfied: filelock in /usr/local/lib/python3.10/dist-packages (from transformers) (3.12.2)\n",
            "Collecting huggingface-hub<1.0,>=0.14.1 (from transformers)\n",
            "  Downloading huggingface_hub-0.16.4-py3-none-any.whl (268 kB)\n",
            "\u001b[2K     \u001b[90m━━━━━━━━━━━━━━━━━━━━━━━━━━━━━━━━━━━━━━\u001b[0m \u001b[32m268.8/268.8 kB\u001b[0m \u001b[31m20.9 MB/s\u001b[0m eta \u001b[36m0:00:00\u001b[0m\n",
            "\u001b[?25hRequirement already satisfied: numpy>=1.17 in /usr/local/lib/python3.10/dist-packages (from transformers) (1.22.4)\n",
            "Requirement already satisfied: packaging>=20.0 in /usr/local/lib/python3.10/dist-packages (from transformers) (23.1)\n",
            "Requirement already satisfied: pyyaml>=5.1 in /usr/local/lib/python3.10/dist-packages (from transformers) (6.0)\n",
            "Requirement already satisfied: regex!=2019.12.17 in /usr/local/lib/python3.10/dist-packages (from transformers) (2022.10.31)\n",
            "Requirement already satisfied: requests in /usr/local/lib/python3.10/dist-packages (from transformers) (2.27.1)\n",
            "Collecting tokenizers!=0.11.3,<0.14,>=0.11.1 (from transformers)\n",
            "  Downloading tokenizers-0.13.3-cp310-cp310-manylinux_2_17_x86_64.manylinux2014_x86_64.whl (7.8 MB)\n",
            "\u001b[2K     \u001b[90m━━━━━━━━━━━━━━━━━━━━━━━━━━━━━━━━━━━━━━━━\u001b[0m \u001b[32m7.8/7.8 MB\u001b[0m \u001b[31m60.4 MB/s\u001b[0m eta \u001b[36m0:00:00\u001b[0m\n",
            "\u001b[?25hCollecting safetensors>=0.3.1 (from transformers)\n",
            "  Downloading safetensors-0.3.1-cp310-cp310-manylinux_2_17_x86_64.manylinux2014_x86_64.whl (1.3 MB)\n",
            "\u001b[2K     \u001b[90m━━━━━━━━━━━━━━━━━━━━━━━━━━━━━━━━━━━━━━━━\u001b[0m \u001b[32m1.3/1.3 MB\u001b[0m \u001b[31m45.1 MB/s\u001b[0m eta \u001b[36m0:00:00\u001b[0m\n",
            "\u001b[?25hRequirement already satisfied: tqdm>=4.27 in /usr/local/lib/python3.10/dist-packages (from transformers) (4.65.0)\n",
            "Requirement already satisfied: fsspec in /usr/local/lib/python3.10/dist-packages (from huggingface-hub<1.0,>=0.14.1->transformers) (2023.6.0)\n",
            "Requirement already satisfied: typing-extensions>=3.7.4.3 in /usr/local/lib/python3.10/dist-packages (from huggingface-hub<1.0,>=0.14.1->transformers) (4.7.1)\n",
            "Requirement already satisfied: urllib3<1.27,>=1.21.1 in /usr/local/lib/python3.10/dist-packages (from requests->transformers) (1.26.16)\n",
            "Requirement already satisfied: certifi>=2017.4.17 in /usr/local/lib/python3.10/dist-packages (from requests->transformers) (2023.5.7)\n",
            "Requirement already satisfied: charset-normalizer~=2.0.0 in /usr/local/lib/python3.10/dist-packages (from requests->transformers) (2.0.12)\n",
            "Requirement already satisfied: idna<4,>=2.5 in /usr/local/lib/python3.10/dist-packages (from requests->transformers) (3.4)\n",
            "Installing collected packages: tokenizers, safetensors, huggingface-hub, transformers\n",
            "Successfully installed huggingface-hub-0.16.4 safetensors-0.3.1 tokenizers-0.13.3 transformers-4.30.2\n"
          ]
        }
      ],
      "source": [
        "!pip install transformers"
      ]
    },
    {
      "cell_type": "code",
      "execution_count": null,
      "metadata": {
        "id": "0jVlG9fwhb48"
      },
      "outputs": [],
      "source": [
        "import torch\n",
        "import pandas as pd\n",
        "from transformers import BertTokenizer, BertForSequenceClassification\n",
        "from torch.utils.data import DataLoader, Dataset\n",
        "from sklearn.model_selection import train_test_split\n",
        "from sklearn.preprocessing import LabelEncoder\n",
        "import numpy as np\n"
      ]
    },
    {
      "cell_type": "code",
      "source": [
        "# Load and preprocess the training data\n",
        "train_data_original = pd.read_csv('/content/drive/MyDrive/Programming/Search Ranking/train-v0.3.csv')\n",
        "tokenizer = BertTokenizer.from_pretrained('bert-base-uncased')\n",
        "\n",
        "product_catalogue_original = pd.read_csv('/content/drive/MyDrive/Programming/Search Ranking/product_catalogue-v0.3.csv')\n"
      ],
      "metadata": {
        "id": "m6urc2J-oNOK"
      },
      "execution_count": null,
      "outputs": []
    },
    {
      "cell_type": "code",
      "source": [
        "# Load the preprocessed training data and product catalogue\n",
        "train_data_original_preprocessed = pd.read_csv('/content/drive/MyDrive/Programming/Search Ranking/Data/preprocessed_train_data.csv')\n",
        "tokenizer = BertTokenizer.from_pretrained('bert-base-uncased')\n",
        "\n",
        "product_catalogue_original_preprocessed = pd.read_csv('/content/drive/MyDrive/Programming/Search Ranking/Data/preprocessed_product_catalogue.csv')\n"
      ],
      "metadata": {
        "id": "zlaHcDW-5Wrg"
      },
      "execution_count": null,
      "outputs": []
    },
    {
      "cell_type": "code",
      "source": [
        "# Remove rows with NaN values in the \"query\" column\n",
        "train_data_original_preprocessed = train_data_original_preprocessed.dropna(subset=['query'])\n",
        "\n",
        "# Select rows where query_locale is 'us'\n",
        "train_data_english = train_data_original_preprocessed[train_data_original_preprocessed['query_locale'] == 'us']\n",
        "\n",
        "# Select the first 3000 rows from the train dataset\n",
        "train_data = train_data_english.head(3000)\n",
        "\n",
        "# Select unique product_ids from the training data\n",
        "unique_product_ids = train_data['product_id'].unique()\n",
        "\n",
        "# Retrieve only the products from the product_catalogue that are also available in the training data\n",
        "product_catalogue = product_catalogue_original_preprocessed[product_catalogue_original_preprocessed['product_id'].isin(unique_product_ids)]\n"
      ],
      "metadata": {
        "id": "En7nm6CI5KDC"
      },
      "execution_count": null,
      "outputs": []
    },
    {
      "cell_type": "code",
      "execution_count": null,
      "metadata": {
        "id": "P3fEc-txpy0t"
      },
      "outputs": [],
      "source": [
        "# Split the data into train and test sets\n",
        "train_data_major, test_data = train_test_split(train_data_original, test_size=0.2, random_state=42)\n",
        "\n",
        "\n",
        "# Merge the train_data and product_catalogue on product_id\n",
        "train_data = train_data.merge(product_catalogue[['product_id', 'product_title']], on='product_id', how='left')\n"
      ]
    },
    {
      "cell_type": "code",
      "execution_count": null,
      "metadata": {
        "id": "OKrsJj9boQhi"
      },
      "outputs": [],
      "source": [
        "class RelevanceDataset(Dataset):\n",
        "    def __init__(self, data, tokenizer):\n",
        "        self.queries = data['query'].tolist()\n",
        "        self.products = data['product_title'].tolist()\n",
        "        self.labels = data['esci_label'].tolist()\n",
        "        self.tokenizer = tokenizer\n",
        "\n",
        "        # Initialize the label encoder\n",
        "        self.label_encoder = LabelEncoder()\n",
        "        self.labels = self.label_encoder.fit_transform(self.labels)\n",
        "\n",
        "\n",
        "    def __len__(self):\n",
        "        return len(self.queries)\n",
        "\n",
        "    def __getitem__(self, idx):\n",
        "        query = self.queries[idx]\n",
        "        product = self.products[idx]\n",
        "        label = self.labels[idx]\n",
        "\n",
        "        encoded_inputs = self.tokenizer.encode_plus(\n",
        "            query,\n",
        "            product,\n",
        "            add_special_tokens=True,\n",
        "            padding='max_length',\n",
        "            max_length=128,\n",
        "            truncation=True,\n",
        "            return_tensors='pt'\n",
        "        )\n",
        "\n",
        "        input_ids = encoded_inputs['input_ids'].squeeze()\n",
        "        attention_mask = encoded_inputs['attention_mask'].squeeze()\n",
        "        label = torch.tensor(label)\n",
        "\n",
        "        return {\n",
        "            'input_ids': input_ids,\n",
        "            'attention_mask': attention_mask,\n",
        "            'label': label\n",
        "        }\n"
      ]
    },
    {
      "cell_type": "code",
      "execution_count": null,
      "metadata": {
        "colab": {
          "base_uri": "https://localhost:8080/"
        },
        "id": "e2wIzPzCifmJ",
        "outputId": "da117eb7-c2de-4dc5-a7e0-e353cf76359c"
      },
      "outputs": [
        {
          "output_type": "stream",
          "name": "stderr",
          "text": [
            "Some weights of the model checkpoint at bert-base-uncased were not used when initializing BertForSequenceClassification: ['cls.seq_relationship.bias', 'cls.predictions.bias', 'cls.predictions.transform.LayerNorm.bias', 'cls.predictions.transform.dense.bias', 'cls.predictions.transform.LayerNorm.weight', 'cls.predictions.transform.dense.weight', 'cls.seq_relationship.weight']\n",
            "- This IS expected if you are initializing BertForSequenceClassification from the checkpoint of a model trained on another task or with another architecture (e.g. initializing a BertForSequenceClassification model from a BertForPreTraining model).\n",
            "- This IS NOT expected if you are initializing BertForSequenceClassification from the checkpoint of a model that you expect to be exactly identical (initializing a BertForSequenceClassification model from a BertForSequenceClassification model).\n",
            "Some weights of BertForSequenceClassification were not initialized from the model checkpoint at bert-base-uncased and are newly initialized: ['classifier.weight', 'classifier.bias']\n",
            "You should probably TRAIN this model on a down-stream task to be able to use it for predictions and inference.\n"
          ]
        }
      ],
      "source": [
        "\n",
        "# Split the data into train and validation sets\n",
        "train_df, val_df = train_test_split(train_data, test_size=0.2, random_state=42)\n",
        "\n",
        "# Create the datasets and data loaders\n",
        "train_dataset = RelevanceDataset(train_df, tokenizer)\n",
        "val_dataset = RelevanceDataset(val_df, tokenizer)\n",
        "\n",
        "train_loader = DataLoader(train_dataset, batch_size=16, shuffle=True)\n",
        "val_loader = DataLoader(val_dataset, batch_size=32)\n",
        "\n",
        "# Load the pre-trained BERT model for sequence classification\n",
        "model = BertForSequenceClassification.from_pretrained('bert-base-uncased', num_labels=4)\n",
        "\n",
        "# Set up the optimizer and loss function\n",
        "optimizer = torch.optim.AdamW(model.parameters(), lr=2e-5)\n",
        "loss_fn = torch.nn.CrossEntropyLoss()\n"
      ]
    },
    {
      "cell_type": "code",
      "source": [
        "device = torch.device('cuda' if torch.cuda.is_available() else 'cpu')\n",
        "model.to(device)\n",
        "accumulation_steps = 4  # Accumulate gradients over 4 batches\n",
        "epochs = 5\n",
        "for epoch in range(epochs):\n",
        "    model.train()\n",
        "    train_loss = 0.0\n",
        "    accumulated_steps = 0  # Counter for accumulated steps\n",
        "\n",
        "    for batch in train_loader:\n",
        "        input_ids = batch['input_ids'].to(device)\n",
        "        attention_mask = batch['attention_mask'].to(device)\n",
        "        labels = batch['label'].to(device)\n",
        "\n",
        "        optimizer.zero_grad()\n",
        "\n",
        "        outputs = model(input_ids, attention_mask=attention_mask, labels=labels)\n",
        "        loss = outputs.loss\n",
        "        train_loss += loss.item()\n",
        "\n",
        "        loss = loss / accumulation_steps  # Scale the loss\n",
        "        loss.backward()\n",
        "\n",
        "        accumulated_steps += 1\n",
        "\n",
        "        if accumulated_steps % accumulation_steps == 0:\n",
        "            # Perform optimization step after accumulating gradients\n",
        "            optimizer.step()\n",
        "            optimizer.zero_grad()\n",
        "\n",
        "    avg_train_loss = train_loss / len(train_loader)\n",
        "\n",
        "    # Validation loop\n",
        "    model.eval()\n",
        "    val_loss = 0.0\n",
        "    total_preds = []\n",
        "    total_labels = []\n",
        "\n",
        "    with torch.no_grad():\n",
        "        for batch in val_loader:\n",
        "            input_ids = batch['input_ids'].to(device)\n",
        "            attention_mask = batch['attention_mask'].to(device)\n",
        "            labels = batch['label'].to(device)\n",
        "\n",
        "            outputs = model(input_ids, attention_mask=attention_mask, labels=labels)\n",
        "            loss = outputs.loss\n",
        "            val_loss += loss.item()\n",
        "\n",
        "            preds = torch.argmax(outputs.logits, dim=1)\n",
        "            total_preds.extend(preds.cpu().numpy())\n",
        "            total_labels.extend(labels.cpu().numpy())\n",
        "\n",
        "    avg_val_loss = val_loss / len(val_loader)\n",
        "\n",
        "    correct = 0\n",
        "    total = len(total_preds)\n",
        "\n",
        "    for pred, label in zip(total_preds, total_labels):\n",
        "        if pred == label:\n",
        "            correct += 1\n",
        "\n",
        "    accuracy = correct / total\n",
        "\n",
        "    # Print progress and evaluation metrics\n",
        "    print(f'Epoch {epoch+1}/{epochs} - Train Loss: {avg_train_loss:.4f} - Val Loss: {avg_val_loss:.4f} - Accuracy: {accuracy:.4f}')\n",
        "\n",
        "# Save the fine-tuned model\n",
        "model.save_pretrained('bert_relevance_model v2.0')\n",
        "\n",
        "\n"
      ],
      "metadata": {
        "colab": {
          "base_uri": "https://localhost:8080/"
        },
        "id": "DoZ0YGwjiZg0",
        "outputId": "8088648b-2dc7-41fa-b0bd-bb3dad74a92c"
      },
      "execution_count": null,
      "outputs": [
        {
          "output_type": "stream",
          "name": "stdout",
          "text": [
            "Epoch 1/5 - Train Loss: 1.1855 - Val Loss: 1.1673 - Accuracy: 0.4083\n",
            "Epoch 2/5 - Train Loss: 1.1685 - Val Loss: 1.1183 - Accuracy: 0.4181\n",
            "Epoch 3/5 - Train Loss: 1.1324 - Val Loss: 1.1103 - Accuracy: 0.5159\n",
            "Epoch 4/5 - Train Loss: 1.0883 - Val Loss: 1.0292 - Accuracy: 0.5183\n",
            "Epoch 5/5 - Train Loss: 1.0347 - Val Loss: 1.0493 - Accuracy: 0.5379\n"
          ]
        }
      ]
    },
    {
      "cell_type": "code",
      "execution_count": null,
      "metadata": {
        "id": "1iShcFbPiioc"
      },
      "outputs": [],
      "source": [
        "model.save_pretrained('/content/drive/MyDrive/Programming/Search Ranking/Models/bert_search_relevance_modelv2.0')\n"
      ]
    }
  ],
  "metadata": {
    "colab": {
      "provenance": []
    },
    "kernelspec": {
      "display_name": "Python 3",
      "name": "python3"
    },
    "language_info": {
      "name": "python"
    }
  },
  "nbformat": 4,
  "nbformat_minor": 0
}